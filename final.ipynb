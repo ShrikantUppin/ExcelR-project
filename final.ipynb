{
 "cells": [
  {
   "cell_type": "markdown",
   "metadata": {},
   "source": [
    "## Problem Statement: Predict whether given Hospital Insuarance Claim is Graud or genuine.\n",
    "\n",
    "* Author: Shrikant U.\n",
    "\n",
    "****\n",
    "****"
   ]
  },
  {
   "cell_type": "markdown",
   "metadata": {},
   "source": [
    "# Step 1: Importing Libraries.."
   ]
  },
  {
   "cell_type": "code",
   "execution_count": 1,
   "metadata": {},
   "outputs": [],
   "source": [
    "import numpy as np \n",
    "import pandas as pd\n",
    "\n",
    "import seaborn as sns\n",
    "import matplotlib.pyplot as plt\n",
    "\n",
    "from sklearn.utils import resample\n",
    "from sklearn.preprocessing import LabelBinarizer, LabelEncoder\n",
    "from sklearn.model_selection import train_test_split, cross_val_score\n",
    "\n",
    "from sklearn.ensemble import RandomForestClassifier\n",
    "from sklearn.metrics import classification_report, confusion_matrix\n",
    "\n",
    "from sklearn.model_selection import StratifiedKFold \n",
    "from collections import Counter\n",
    "\n",
    "from joblib import dump, load\n",
    "\n",
    "import warnings\n",
    "warnings.filterwarnings('ignore')\n",
    "\n",
    "\n",
    "pd.set_option('display.max_columns', 2000)\n",
    "pd.set_option('display.max_rows', 500)"
   ]
  },
  {
   "cell_type": "markdown",
   "metadata": {},
   "source": [
    "# Step 2: Dataset loading and Preprocessing.."
   ]
  },
  {
   "cell_type": "code",
   "execution_count": 2,
   "metadata": {},
   "outputs": [],
   "source": [
    "dataset = pd.read_csv('dataset.csv')"
   ]
  },
  {
   "cell_type": "code",
   "execution_count": 3,
   "metadata": {},
   "outputs": [
    {
     "data": {
      "text/html": [
       "<div>\n",
       "<style scoped>\n",
       "    .dataframe tbody tr th:only-of-type {\n",
       "        vertical-align: middle;\n",
       "    }\n",
       "\n",
       "    .dataframe tbody tr th {\n",
       "        vertical-align: top;\n",
       "    }\n",
       "\n",
       "    .dataframe thead th {\n",
       "        text-align: right;\n",
       "    }\n",
       "</style>\n",
       "<table border=\"1\" class=\"dataframe\">\n",
       "  <thead>\n",
       "    <tr style=\"text-align: right;\">\n",
       "      <th></th>\n",
       "      <th>Area_Service</th>\n",
       "      <th>Hospital County</th>\n",
       "      <th>Hospital Id</th>\n",
       "      <th>Age</th>\n",
       "      <th>Gender</th>\n",
       "      <th>Cultural_group</th>\n",
       "      <th>ethnicity</th>\n",
       "      <th>Days_spend_hsptl</th>\n",
       "      <th>Admission_type</th>\n",
       "      <th>Home or self care,</th>\n",
       "      <th>ccs_diagnosis_code</th>\n",
       "      <th>ccs_procedure_code</th>\n",
       "      <th>apr_drg_description</th>\n",
       "      <th>Code_illness</th>\n",
       "      <th>Mortality risk</th>\n",
       "      <th>Surg_Description</th>\n",
       "      <th>Weight_baby</th>\n",
       "      <th>Abortion</th>\n",
       "      <th>Emergency dept_yes/No</th>\n",
       "      <th>Tot_charg</th>\n",
       "      <th>Tot_cost</th>\n",
       "      <th>ratio_of_total_costs_to_total_charges</th>\n",
       "      <th>Result</th>\n",
       "      <th>Payment_Typology</th>\n",
       "    </tr>\n",
       "  </thead>\n",
       "  <tbody>\n",
       "    <tr>\n",
       "      <th>0</th>\n",
       "      <td>Western NY</td>\n",
       "      <td>Allegany</td>\n",
       "      <td>37.0</td>\n",
       "      <td>30 to 49</td>\n",
       "      <td>F</td>\n",
       "      <td>White</td>\n",
       "      <td>Not Span/Hispanic</td>\n",
       "      <td>4</td>\n",
       "      <td>Elective</td>\n",
       "      <td>Home or Self Care</td>\n",
       "      <td>122</td>\n",
       "      <td>0</td>\n",
       "      <td>Other pneumonia</td>\n",
       "      <td>1</td>\n",
       "      <td>1.0</td>\n",
       "      <td>Medical</td>\n",
       "      <td>0</td>\n",
       "      <td>N</td>\n",
       "      <td>Y</td>\n",
       "      <td>5511.95</td>\n",
       "      <td>5582.49</td>\n",
       "      <td>1.012798</td>\n",
       "      <td>1</td>\n",
       "      <td>1</td>\n",
       "    </tr>\n",
       "    <tr>\n",
       "      <th>1</th>\n",
       "      <td>Western NY</td>\n",
       "      <td>Allegany</td>\n",
       "      <td>37.0</td>\n",
       "      <td>70 or Older</td>\n",
       "      <td>F</td>\n",
       "      <td>White</td>\n",
       "      <td>Not Span/Hispanic</td>\n",
       "      <td>4</td>\n",
       "      <td>Urgent</td>\n",
       "      <td>Short-term Hospital</td>\n",
       "      <td>197</td>\n",
       "      <td>0</td>\n",
       "      <td>Cellulitis &amp; other skin infections</td>\n",
       "      <td>3</td>\n",
       "      <td>2.0</td>\n",
       "      <td>Medical</td>\n",
       "      <td>0</td>\n",
       "      <td>N</td>\n",
       "      <td>Y</td>\n",
       "      <td>4783.20</td>\n",
       "      <td>5162.82</td>\n",
       "      <td>1.079365</td>\n",
       "      <td>1</td>\n",
       "      <td>1</td>\n",
       "    </tr>\n",
       "  </tbody>\n",
       "</table>\n",
       "</div>"
      ],
      "text/plain": [
       "  Area_Service Hospital County  Hospital Id          Age Gender  \\\n",
       "0   Western NY        Allegany         37.0     30 to 49      F   \n",
       "1   Western NY        Allegany         37.0  70 or Older      F   \n",
       "\n",
       "  Cultural_group          ethnicity Days_spend_hsptl Admission_type  \\\n",
       "0          White  Not Span/Hispanic                4       Elective   \n",
       "1          White  Not Span/Hispanic                4         Urgent   \n",
       "\n",
       "    Home or self care,  ccs_diagnosis_code  ccs_procedure_code  \\\n",
       "0    Home or Self Care                 122                   0   \n",
       "1  Short-term Hospital                 197                   0   \n",
       "\n",
       "                  apr_drg_description  Code_illness  Mortality risk  \\\n",
       "0                     Other pneumonia             1             1.0   \n",
       "1  Cellulitis & other skin infections             3             2.0   \n",
       "\n",
       "  Surg_Description  Weight_baby Abortion Emergency dept_yes/No  Tot_charg  \\\n",
       "0          Medical            0        N                     Y    5511.95   \n",
       "1          Medical            0        N                     Y    4783.20   \n",
       "\n",
       "   Tot_cost  ratio_of_total_costs_to_total_charges  Result  Payment_Typology  \n",
       "0   5582.49                               1.012798       1                 1  \n",
       "1   5162.82                               1.079365       1                 1  "
      ]
     },
     "execution_count": 3,
     "metadata": {},
     "output_type": "execute_result"
    }
   ],
   "source": [
    "dataset.head(2)"
   ]
  },
  {
   "cell_type": "code",
   "execution_count": 4,
   "metadata": {},
   "outputs": [
    {
     "data": {
      "text/plain": [
       "Index(['Area_Service', 'Hospital County', 'Hospital Id', 'Age', 'Gender',\n",
       "       'Cultural_group', 'ethnicity', 'Days_spend_hsptl', 'Admission_type',\n",
       "       'Home or self care,', 'ccs_diagnosis_code', 'ccs_procedure_code',\n",
       "       'apr_drg_description', 'Code_illness', 'Mortality risk',\n",
       "       'Surg_Description', 'Weight_baby', 'Abortion', 'Emergency dept_yes/No',\n",
       "       'Tot_charg', 'Tot_cost', 'ratio_of_total_costs_to_total_charges',\n",
       "       'Result', 'Payment_Typology'],\n",
       "      dtype='object')"
      ]
     },
     "execution_count": 4,
     "metadata": {},
     "output_type": "execute_result"
    }
   ],
   "source": [
    "dataset.columns"
   ]
  },
  {
   "cell_type": "code",
   "execution_count": 5,
   "metadata": {},
   "outputs": [
    {
     "data": {
      "text/plain": [
       "array(['Area_Service', 'Hospital_County', 'Hospital_Id', 'Age', 'Gender',\n",
       "       'Cultural_group', 'ethnicity', 'Days_spend_hsptl',\n",
       "       'Admission_type', 'Home_or_self_care,', 'ccs_diagnosis_code',\n",
       "       'ccs_procedure_code', 'apr_drg_description', 'Code_illness',\n",
       "       'Mortality_risk', 'Surg_Description', 'Weight_baby', 'Abortion',\n",
       "       'Emergency_dept_yes_No', 'Tot_charg', 'Tot_cost',\n",
       "       'ratio_of_total_costs_to_total_charges', 'Result',\n",
       "       'Payment_Typology'], dtype=object)"
      ]
     },
     "execution_count": 5,
     "metadata": {},
     "output_type": "execute_result"
    }
   ],
   "source": [
    "# removing spaces in dataset column names..\n",
    "\n",
    "dataset.columns = dataset.columns.to_series().apply(lambda x: x.replace(' ', '_')).to_list()\n",
    "dataset.columns = dataset.columns.to_series().apply(lambda x: x.replace('/', '_')).to_list()\n",
    "dataset.columns.values"
   ]
  },
  {
   "cell_type": "code",
   "execution_count": 6,
   "metadata": {},
   "outputs": [],
   "source": [
    "dataset.rename(columns={'Home_or_self_care,': 'Home_or_self_care'}, inplace=True)"
   ]
  },
  {
   "cell_type": "code",
   "execution_count": 7,
   "metadata": {},
   "outputs": [],
   "source": [
    "data= pd.read_csv('dataset.csv')\n",
    "data_sample_view = data.head(2)"
   ]
  },
  {
   "cell_type": "code",
   "execution_count": 8,
   "metadata": {},
   "outputs": [
    {
     "data": {
      "text/plain": [
       "['data_sample_view.joblib']"
      ]
     },
     "execution_count": 8,
     "metadata": {},
     "output_type": "execute_result"
    }
   ],
   "source": [
    "# for deployment part...sample dataframe view..\n",
    "dump(data_sample_view, 'data_sample_view.joblib')"
   ]
  },
  {
   "cell_type": "code",
   "execution_count": 9,
   "metadata": {},
   "outputs": [
    {
     "data": {
      "text/plain": [
       "(1048575, 24)"
      ]
     },
     "execution_count": 9,
     "metadata": {},
     "output_type": "execute_result"
    }
   ],
   "source": [
    "dataset.shape"
   ]
  },
  {
   "cell_type": "code",
   "execution_count": 10,
   "metadata": {},
   "outputs": [],
   "source": [
    "dataset.drop_duplicates(inplace=True)"
   ]
  },
  {
   "cell_type": "code",
   "execution_count": 11,
   "metadata": {},
   "outputs": [],
   "source": [
    "dataset.dropna(inplace=True)"
   ]
  },
  {
   "cell_type": "code",
   "execution_count": 12,
   "metadata": {},
   "outputs": [
    {
     "data": {
      "text/plain": [
       "(1041265, 24)"
      ]
     },
     "execution_count": 12,
     "metadata": {},
     "output_type": "execute_result"
    }
   ],
   "source": [
    "dataset.shape"
   ]
  },
  {
   "cell_type": "code",
   "execution_count": 13,
   "metadata": {},
   "outputs": [
    {
     "name": "stdout",
     "output_type": "stream",
     "text": [
      "<class 'pandas.core.frame.DataFrame'>\n",
      "Int64Index: 1041265 entries, 0 to 1048574\n",
      "Data columns (total 24 columns):\n",
      " #   Column                                 Non-Null Count    Dtype  \n",
      "---  ------                                 --------------    -----  \n",
      " 0   Area_Service                           1041265 non-null  object \n",
      " 1   Hospital_County                        1041265 non-null  object \n",
      " 2   Hospital_Id                            1041265 non-null  float64\n",
      " 3   Age                                    1041265 non-null  object \n",
      " 4   Gender                                 1041265 non-null  object \n",
      " 5   Cultural_group                         1041265 non-null  object \n",
      " 6   ethnicity                              1041265 non-null  object \n",
      " 7   Days_spend_hsptl                       1041265 non-null  object \n",
      " 8   Admission_type                         1041265 non-null  object \n",
      " 9   Home_or_self_care                      1041265 non-null  object \n",
      " 10  ccs_diagnosis_code                     1041265 non-null  int64  \n",
      " 11  ccs_procedure_code                     1041265 non-null  int64  \n",
      " 12  apr_drg_description                    1041265 non-null  object \n",
      " 13  Code_illness                           1041265 non-null  int64  \n",
      " 14  Mortality_risk                         1041265 non-null  float64\n",
      " 15  Surg_Description                       1041265 non-null  object \n",
      " 16  Weight_baby                            1041265 non-null  int64  \n",
      " 17  Abortion                               1041265 non-null  object \n",
      " 18  Emergency_dept_yes_No                  1041265 non-null  object \n",
      " 19  Tot_charg                              1041265 non-null  float64\n",
      " 20  Tot_cost                               1041265 non-null  float64\n",
      " 21  ratio_of_total_costs_to_total_charges  1041265 non-null  float64\n",
      " 22  Result                                 1041265 non-null  int64  \n",
      " 23  Payment_Typology                       1041265 non-null  int64  \n",
      "dtypes: float64(5), int64(6), object(13)\n",
      "memory usage: 198.6+ MB\n"
     ]
    }
   ],
   "source": [
    "dataset.info()"
   ]
  },
  {
   "cell_type": "code",
   "execution_count": 14,
   "metadata": {},
   "outputs": [
    {
     "data": {
      "text/html": [
       "<div>\n",
       "<style scoped>\n",
       "    .dataframe tbody tr th:only-of-type {\n",
       "        vertical-align: middle;\n",
       "    }\n",
       "\n",
       "    .dataframe tbody tr th {\n",
       "        vertical-align: top;\n",
       "    }\n",
       "\n",
       "    .dataframe thead th {\n",
       "        text-align: right;\n",
       "    }\n",
       "</style>\n",
       "<table border=\"1\" class=\"dataframe\">\n",
       "  <thead>\n",
       "    <tr style=\"text-align: right;\">\n",
       "      <th></th>\n",
       "      <th>Area_Service</th>\n",
       "      <th>Hospital_County</th>\n",
       "      <th>Age</th>\n",
       "      <th>Gender</th>\n",
       "      <th>Cultural_group</th>\n",
       "      <th>ethnicity</th>\n",
       "      <th>Days_spend_hsptl</th>\n",
       "      <th>Admission_type</th>\n",
       "      <th>Home_or_self_care</th>\n",
       "      <th>apr_drg_description</th>\n",
       "      <th>Surg_Description</th>\n",
       "      <th>Abortion</th>\n",
       "      <th>Emergency_dept_yes_No</th>\n",
       "    </tr>\n",
       "  </thead>\n",
       "  <tbody>\n",
       "    <tr>\n",
       "      <th>0</th>\n",
       "      <td>Western NY</td>\n",
       "      <td>Allegany</td>\n",
       "      <td>30 to 49</td>\n",
       "      <td>F</td>\n",
       "      <td>White</td>\n",
       "      <td>Not Span/Hispanic</td>\n",
       "      <td>4</td>\n",
       "      <td>Elective</td>\n",
       "      <td>Home or Self Care</td>\n",
       "      <td>Other pneumonia</td>\n",
       "      <td>Medical</td>\n",
       "      <td>N</td>\n",
       "      <td>Y</td>\n",
       "    </tr>\n",
       "    <tr>\n",
       "      <th>1</th>\n",
       "      <td>Western NY</td>\n",
       "      <td>Allegany</td>\n",
       "      <td>70 or Older</td>\n",
       "      <td>F</td>\n",
       "      <td>White</td>\n",
       "      <td>Not Span/Hispanic</td>\n",
       "      <td>4</td>\n",
       "      <td>Urgent</td>\n",
       "      <td>Short-term Hospital</td>\n",
       "      <td>Cellulitis &amp; other skin infections</td>\n",
       "      <td>Medical</td>\n",
       "      <td>N</td>\n",
       "      <td>Y</td>\n",
       "    </tr>\n",
       "  </tbody>\n",
       "</table>\n",
       "</div>"
      ],
      "text/plain": [
       "  Area_Service Hospital_County          Age Gender Cultural_group  \\\n",
       "0   Western NY        Allegany     30 to 49      F          White   \n",
       "1   Western NY        Allegany  70 or Older      F          White   \n",
       "\n",
       "           ethnicity Days_spend_hsptl Admission_type    Home_or_self_care  \\\n",
       "0  Not Span/Hispanic                4       Elective    Home or Self Care   \n",
       "1  Not Span/Hispanic                4         Urgent  Short-term Hospital   \n",
       "\n",
       "                  apr_drg_description Surg_Description Abortion  \\\n",
       "0                     Other pneumonia          Medical        N   \n",
       "1  Cellulitis & other skin infections          Medical        N   \n",
       "\n",
       "  Emergency_dept_yes_No  \n",
       "0                     Y  \n",
       "1                     Y  "
      ]
     },
     "execution_count": 14,
     "metadata": {},
     "output_type": "execute_result"
    }
   ],
   "source": [
    "dataset.select_dtypes(include=['object']).head(2)"
   ]
  },
  {
   "cell_type": "markdown",
   "metadata": {},
   "source": [
    "* It shows days spend hspt column as obejct type. So checking unique values & dealing with it."
   ]
  },
  {
   "cell_type": "code",
   "execution_count": 15,
   "metadata": {},
   "outputs": [
    {
     "name": "stdout",
     "output_type": "stream",
     "text": [
      "120 +\n"
     ]
    }
   ],
   "source": [
    "#### trying to convert string formatted data to integer / find out which value is not getting converted to integer datatype\n",
    "\n",
    "for i in dataset.Days_spend_hsptl.unique():\n",
    "    try:\n",
    "        int(i)\n",
    "    except ValueError:\n",
    "        print(i)"
   ]
  },
  {
   "cell_type": "markdown",
   "metadata": {},
   "source": [
    "So we have '120 +' entry in Days_spend_hsptl column. that is days spend hospital is more than 120..\n",
    "\n",
    "So we can replace it by integer 120 & Convert this column to integer dataype"
   ]
  },
  {
   "cell_type": "code",
   "execution_count": 16,
   "metadata": {},
   "outputs": [],
   "source": [
    "# replacing value\n",
    "\n",
    "dataset.replace({'Days_spend_hsptl': '120 +'}, 120, inplace=True)"
   ]
  },
  {
   "cell_type": "code",
   "execution_count": 17,
   "metadata": {},
   "outputs": [],
   "source": [
    "# converting to intger datatype column..\n",
    "\n",
    "dataset.Days_spend_hsptl = dataset.Days_spend_hsptl.astype('int')"
   ]
  },
  {
   "cell_type": "code",
   "execution_count": 18,
   "metadata": {},
   "outputs": [
    {
     "data": {
      "text/html": [
       "<div>\n",
       "<style scoped>\n",
       "    .dataframe tbody tr th:only-of-type {\n",
       "        vertical-align: middle;\n",
       "    }\n",
       "\n",
       "    .dataframe tbody tr th {\n",
       "        vertical-align: top;\n",
       "    }\n",
       "\n",
       "    .dataframe thead th {\n",
       "        text-align: right;\n",
       "    }\n",
       "</style>\n",
       "<table border=\"1\" class=\"dataframe\">\n",
       "  <thead>\n",
       "    <tr style=\"text-align: right;\">\n",
       "      <th></th>\n",
       "      <th>Hospital_Id</th>\n",
       "      <th>Days_spend_hsptl</th>\n",
       "      <th>ccs_diagnosis_code</th>\n",
       "      <th>ccs_procedure_code</th>\n",
       "      <th>Code_illness</th>\n",
       "      <th>Mortality_risk</th>\n",
       "      <th>Weight_baby</th>\n",
       "      <th>Tot_charg</th>\n",
       "      <th>Tot_cost</th>\n",
       "      <th>ratio_of_total_costs_to_total_charges</th>\n",
       "      <th>Result</th>\n",
       "      <th>Payment_Typology</th>\n",
       "    </tr>\n",
       "  </thead>\n",
       "  <tbody>\n",
       "    <tr>\n",
       "      <th>0</th>\n",
       "      <td>37.0</td>\n",
       "      <td>4</td>\n",
       "      <td>122</td>\n",
       "      <td>0</td>\n",
       "      <td>1</td>\n",
       "      <td>1.0</td>\n",
       "      <td>0</td>\n",
       "      <td>5511.95</td>\n",
       "      <td>5582.49</td>\n",
       "      <td>1.012798</td>\n",
       "      <td>1</td>\n",
       "      <td>1</td>\n",
       "    </tr>\n",
       "    <tr>\n",
       "      <th>1</th>\n",
       "      <td>37.0</td>\n",
       "      <td>4</td>\n",
       "      <td>197</td>\n",
       "      <td>0</td>\n",
       "      <td>3</td>\n",
       "      <td>2.0</td>\n",
       "      <td>0</td>\n",
       "      <td>4783.20</td>\n",
       "      <td>5162.82</td>\n",
       "      <td>1.079365</td>\n",
       "      <td>1</td>\n",
       "      <td>1</td>\n",
       "    </tr>\n",
       "  </tbody>\n",
       "</table>\n",
       "</div>"
      ],
      "text/plain": [
       "   Hospital_Id  Days_spend_hsptl  ccs_diagnosis_code  ccs_procedure_code  \\\n",
       "0         37.0                 4                 122                   0   \n",
       "1         37.0                 4                 197                   0   \n",
       "\n",
       "   Code_illness  Mortality_risk  Weight_baby  Tot_charg  Tot_cost  \\\n",
       "0             1             1.0            0    5511.95   5582.49   \n",
       "1             3             2.0            0    4783.20   5162.82   \n",
       "\n",
       "   ratio_of_total_costs_to_total_charges  Result  Payment_Typology  \n",
       "0                               1.012798       1                 1  \n",
       "1                               1.079365       1                 1  "
      ]
     },
     "execution_count": 18,
     "metadata": {},
     "output_type": "execute_result"
    }
   ],
   "source": [
    "dataset.select_dtypes(exclude='object').head(2)"
   ]
  },
  {
   "cell_type": "code",
   "execution_count": 19,
   "metadata": {},
   "outputs": [],
   "source": [
    "dataset.Hospital_Id = dataset.Hospital_Id.astype('int')\n",
    "dataset.Mortality_risk = dataset.Mortality_risk.astype('int')"
   ]
  },
  {
   "cell_type": "markdown",
   "metadata": {},
   "source": [
    "##### Dropping non-importanat columns...source: EDA-Discussion-part-II"
   ]
  },
  {
   "cell_type": "code",
   "execution_count": 20,
   "metadata": {},
   "outputs": [],
   "source": [
    "dataset.drop(['Hospital_Id', 'apr_drg_description', 'Abortion', 'Weight_baby'], axis=1, inplace=True)"
   ]
  },
  {
   "cell_type": "code",
   "execution_count": 21,
   "metadata": {},
   "outputs": [
    {
     "data": {
      "text/html": [
       "<div>\n",
       "<style scoped>\n",
       "    .dataframe tbody tr th:only-of-type {\n",
       "        vertical-align: middle;\n",
       "    }\n",
       "\n",
       "    .dataframe tbody tr th {\n",
       "        vertical-align: top;\n",
       "    }\n",
       "\n",
       "    .dataframe thead th {\n",
       "        text-align: right;\n",
       "    }\n",
       "</style>\n",
       "<table border=\"1\" class=\"dataframe\">\n",
       "  <thead>\n",
       "    <tr style=\"text-align: right;\">\n",
       "      <th></th>\n",
       "      <th>Area_Service</th>\n",
       "      <th>Hospital_County</th>\n",
       "      <th>Age</th>\n",
       "      <th>Gender</th>\n",
       "      <th>Cultural_group</th>\n",
       "      <th>ethnicity</th>\n",
       "      <th>Days_spend_hsptl</th>\n",
       "      <th>Admission_type</th>\n",
       "      <th>Home_or_self_care</th>\n",
       "      <th>ccs_diagnosis_code</th>\n",
       "      <th>ccs_procedure_code</th>\n",
       "      <th>Code_illness</th>\n",
       "      <th>Mortality_risk</th>\n",
       "      <th>Surg_Description</th>\n",
       "      <th>Emergency_dept_yes_No</th>\n",
       "      <th>Tot_charg</th>\n",
       "      <th>Tot_cost</th>\n",
       "      <th>ratio_of_total_costs_to_total_charges</th>\n",
       "      <th>Result</th>\n",
       "      <th>Payment_Typology</th>\n",
       "    </tr>\n",
       "  </thead>\n",
       "  <tbody>\n",
       "    <tr>\n",
       "      <th>0</th>\n",
       "      <td>Western NY</td>\n",
       "      <td>Allegany</td>\n",
       "      <td>30 to 49</td>\n",
       "      <td>F</td>\n",
       "      <td>White</td>\n",
       "      <td>Not Span/Hispanic</td>\n",
       "      <td>4</td>\n",
       "      <td>Elective</td>\n",
       "      <td>Home or Self Care</td>\n",
       "      <td>122</td>\n",
       "      <td>0</td>\n",
       "      <td>1</td>\n",
       "      <td>1</td>\n",
       "      <td>Medical</td>\n",
       "      <td>Y</td>\n",
       "      <td>5511.95</td>\n",
       "      <td>5582.49</td>\n",
       "      <td>1.012798</td>\n",
       "      <td>1</td>\n",
       "      <td>1</td>\n",
       "    </tr>\n",
       "    <tr>\n",
       "      <th>1</th>\n",
       "      <td>Western NY</td>\n",
       "      <td>Allegany</td>\n",
       "      <td>70 or Older</td>\n",
       "      <td>F</td>\n",
       "      <td>White</td>\n",
       "      <td>Not Span/Hispanic</td>\n",
       "      <td>4</td>\n",
       "      <td>Urgent</td>\n",
       "      <td>Short-term Hospital</td>\n",
       "      <td>197</td>\n",
       "      <td>0</td>\n",
       "      <td>3</td>\n",
       "      <td>2</td>\n",
       "      <td>Medical</td>\n",
       "      <td>Y</td>\n",
       "      <td>4783.20</td>\n",
       "      <td>5162.82</td>\n",
       "      <td>1.079365</td>\n",
       "      <td>1</td>\n",
       "      <td>1</td>\n",
       "    </tr>\n",
       "  </tbody>\n",
       "</table>\n",
       "</div>"
      ],
      "text/plain": [
       "  Area_Service Hospital_County          Age Gender Cultural_group  \\\n",
       "0   Western NY        Allegany     30 to 49      F          White   \n",
       "1   Western NY        Allegany  70 or Older      F          White   \n",
       "\n",
       "           ethnicity  Days_spend_hsptl Admission_type    Home_or_self_care  \\\n",
       "0  Not Span/Hispanic                 4       Elective    Home or Self Care   \n",
       "1  Not Span/Hispanic                 4         Urgent  Short-term Hospital   \n",
       "\n",
       "   ccs_diagnosis_code  ccs_procedure_code  Code_illness  Mortality_risk  \\\n",
       "0                 122                   0             1               1   \n",
       "1                 197                   0             3               2   \n",
       "\n",
       "  Surg_Description Emergency_dept_yes_No  Tot_charg  Tot_cost  \\\n",
       "0          Medical                     Y    5511.95   5582.49   \n",
       "1          Medical                     Y    4783.20   5162.82   \n",
       "\n",
       "   ratio_of_total_costs_to_total_charges  Result  Payment_Typology  \n",
       "0                               1.012798       1                 1  \n",
       "1                               1.079365       1                 1  "
      ]
     },
     "execution_count": 21,
     "metadata": {},
     "output_type": "execute_result"
    }
   ],
   "source": [
    "dataset.head(2)"
   ]
  },
  {
   "cell_type": "markdown",
   "metadata": {},
   "source": [
    "### encoding..."
   ]
  },
  {
   "cell_type": "markdown",
   "metadata": {},
   "source": [
    "#### Making it for deployment ppoint of view.."
   ]
  },
  {
   "cell_type": "code",
   "execution_count": 22,
   "metadata": {},
   "outputs": [
    {
     "data": {
      "text/html": [
       "<div>\n",
       "<style scoped>\n",
       "    .dataframe tbody tr th:only-of-type {\n",
       "        vertical-align: middle;\n",
       "    }\n",
       "\n",
       "    .dataframe tbody tr th {\n",
       "        vertical-align: top;\n",
       "    }\n",
       "\n",
       "    .dataframe thead th {\n",
       "        text-align: right;\n",
       "    }\n",
       "</style>\n",
       "<table border=\"1\" class=\"dataframe\">\n",
       "  <thead>\n",
       "    <tr style=\"text-align: right;\">\n",
       "      <th></th>\n",
       "      <th>Area_Service</th>\n",
       "      <th>Hospital_County</th>\n",
       "      <th>Age</th>\n",
       "      <th>Gender</th>\n",
       "      <th>Cultural_group</th>\n",
       "      <th>ethnicity</th>\n",
       "      <th>Admission_type</th>\n",
       "      <th>Home_or_self_care</th>\n",
       "      <th>Surg_Description</th>\n",
       "      <th>Emergency_dept_yes_No</th>\n",
       "    </tr>\n",
       "  </thead>\n",
       "  <tbody>\n",
       "    <tr>\n",
       "      <th>0</th>\n",
       "      <td>Western NY</td>\n",
       "      <td>Allegany</td>\n",
       "      <td>30 to 49</td>\n",
       "      <td>F</td>\n",
       "      <td>White</td>\n",
       "      <td>Not Span/Hispanic</td>\n",
       "      <td>Elective</td>\n",
       "      <td>Home or Self Care</td>\n",
       "      <td>Medical</td>\n",
       "      <td>Y</td>\n",
       "    </tr>\n",
       "    <tr>\n",
       "      <th>1</th>\n",
       "      <td>Western NY</td>\n",
       "      <td>Allegany</td>\n",
       "      <td>70 or Older</td>\n",
       "      <td>F</td>\n",
       "      <td>White</td>\n",
       "      <td>Not Span/Hispanic</td>\n",
       "      <td>Urgent</td>\n",
       "      <td>Short-term Hospital</td>\n",
       "      <td>Medical</td>\n",
       "      <td>Y</td>\n",
       "    </tr>\n",
       "  </tbody>\n",
       "</table>\n",
       "</div>"
      ],
      "text/plain": [
       "  Area_Service Hospital_County          Age Gender Cultural_group  \\\n",
       "0   Western NY        Allegany     30 to 49      F          White   \n",
       "1   Western NY        Allegany  70 or Older      F          White   \n",
       "\n",
       "           ethnicity Admission_type    Home_or_self_care Surg_Description  \\\n",
       "0  Not Span/Hispanic       Elective    Home or Self Care          Medical   \n",
       "1  Not Span/Hispanic         Urgent  Short-term Hospital          Medical   \n",
       "\n",
       "  Emergency_dept_yes_No  \n",
       "0                     Y  \n",
       "1                     Y  "
      ]
     },
     "execution_count": 22,
     "metadata": {},
     "output_type": "execute_result"
    }
   ],
   "source": [
    "dataset.select_dtypes(include=['object']).head(2)"
   ]
  },
  {
   "cell_type": "code",
   "execution_count": 23,
   "metadata": {},
   "outputs": [],
   "source": [
    "from sklearn.preprocessing import LabelBinarizer, LabelEncoder\n",
    "label = LabelEncoder()\n",
    "label_binizer =LabelBinarizer()"
   ]
  },
  {
   "cell_type": "code",
   "execution_count": 24,
   "metadata": {},
   "outputs": [],
   "source": [
    "label_area = label.fit(dataset.Area_Service)\n",
    "label_Hospital_County = label.fit(dataset.Hospital_County)\n",
    "label_Age = label.fit(dataset.Age)\n",
    "label_Cultural_group = label.fit(dataset.Cultural_group)\n",
    "label_ethnicity= label.fit(dataset.ethnicity)\n",
    "label_Admission_type = label.fit(dataset.Admission_type)\n",
    "label_Home_or_self_care = label.fit(dataset.Home_or_self_care)"
   ]
  },
  {
   "cell_type": "code",
   "execution_count": 25,
   "metadata": {},
   "outputs": [],
   "source": [
    "one_hot_Gender = label_binizer.fit(dataset.Gender)\n",
    "one_hot_Surg_Description = label_binizer.fit(dataset.Surg_Description)\n",
    "one_hot_Emergency_dept_yes_No = label_binizer.fit(dataset.Emergency_dept_yes_No)"
   ]
  },
  {
   "cell_type": "code",
   "execution_count": 26,
   "metadata": {},
   "outputs": [],
   "source": [
    "label_encoder_list = [label_area, label_Hospital_County,\n",
    "                label_Age, label_Cultural_group,\n",
    "                label_ethnicity, label_Admission_type,\n",
    "                label_Home_or_self_care]\n",
    "\n",
    "one_hot_coder_list = [one_hot_Gender, one_hot_Surg_Description, one_hot_Emergency_dept_yes_No]"
   ]
  },
  {
   "cell_type": "markdown",
   "metadata": {},
   "source": [
    "#### pickling encoding object & columns for deployment point of view..."
   ]
  },
  {
   "cell_type": "code",
   "execution_count": 165,
   "metadata": {},
   "outputs": [],
   "source": [
    "from joblib import dump, load"
   ]
  },
  {
   "cell_type": "code",
   "execution_count": 166,
   "metadata": {},
   "outputs": [
    {
     "data": {
      "text/plain": [
       "['label_encoder_list.joblib']"
      ]
     },
     "execution_count": 166,
     "metadata": {},
     "output_type": "execute_result"
    }
   ],
   "source": [
    "dump(label_encoder_list, 'label_encoder_list.joblib')"
   ]
  },
  {
   "cell_type": "code",
   "execution_count": 167,
   "metadata": {},
   "outputs": [
    {
     "data": {
      "text/plain": [
       "['one_hot_coder_list.joblib']"
      ]
     },
     "execution_count": 167,
     "metadata": {},
     "output_type": "execute_result"
    }
   ],
   "source": [
    "dump(one_hot_coder_list, 'one_hot_coder_list.joblib')"
   ]
  },
  {
   "cell_type": "code",
   "execution_count": 168,
   "metadata": {},
   "outputs": [],
   "source": [
    "label_to_column = ['Area_Service', 'Hospital_County',\n",
    "                  'Age', 'Cultural_group', 'ethnicity',\n",
    "                  'Admission_type', 'Home_or_self_care']\n",
    "\n",
    "one_hot_column = ['Gender', 'Surg_Description', 'Emergency_dept_yes_No']"
   ]
  },
  {
   "cell_type": "code",
   "execution_count": 169,
   "metadata": {},
   "outputs": [
    {
     "data": {
      "text/plain": [
       "['label_to_column.joblib']"
      ]
     },
     "execution_count": 169,
     "metadata": {},
     "output_type": "execute_result"
    }
   ],
   "source": [
    "dump(label_to_column, 'label_to_column.joblib')"
   ]
  },
  {
   "cell_type": "code",
   "execution_count": 170,
   "metadata": {},
   "outputs": [
    {
     "data": {
      "text/plain": [
       "['one_hot_column.joblib']"
      ]
     },
     "execution_count": 170,
     "metadata": {},
     "output_type": "execute_result"
    }
   ],
   "source": [
    "dump(one_hot_column, 'one_hot_column.joblib')"
   ]
  },
  {
   "cell_type": "code",
   "execution_count": 33,
   "metadata": {},
   "outputs": [],
   "source": [
    "# applyibng label encoding on columns..also this below cells can be used in deployment as well"
   ]
  },
  {
   "cell_type": "code",
   "execution_count": 29,
   "metadata": {},
   "outputs": [],
   "source": [
    "j = 0\n",
    "for i in label_to_column:\n",
    "    dataset[i] = label_encoder_list[j].fit_transform(dataset[i])\n",
    "    j =+1"
   ]
  },
  {
   "cell_type": "code",
   "execution_count": null,
   "metadata": {},
   "outputs": [],
   "source": [
    "# applyibng one hot encoding on columns..also this below cells can be used in deployment as well"
   ]
  },
  {
   "cell_type": "code",
   "execution_count": 30,
   "metadata": {},
   "outputs": [],
   "source": [
    "k = 0\n",
    "for i in one_hot_column:\n",
    "    dataset[i] = one_hot_coder_list[k].fit_transform(dataset[i])\n",
    "    k =+1"
   ]
  },
  {
   "cell_type": "code",
   "execution_count": 35,
   "metadata": {},
   "outputs": [
    {
     "data": {
      "text/html": [
       "<div>\n",
       "<style scoped>\n",
       "    .dataframe tbody tr th:only-of-type {\n",
       "        vertical-align: middle;\n",
       "    }\n",
       "\n",
       "    .dataframe tbody tr th {\n",
       "        vertical-align: top;\n",
       "    }\n",
       "\n",
       "    .dataframe thead th {\n",
       "        text-align: right;\n",
       "    }\n",
       "</style>\n",
       "<table border=\"1\" class=\"dataframe\">\n",
       "  <thead>\n",
       "    <tr style=\"text-align: right;\">\n",
       "      <th></th>\n",
       "      <th>Area_Service</th>\n",
       "      <th>Hospital_County</th>\n",
       "      <th>Age</th>\n",
       "      <th>Gender</th>\n",
       "      <th>Cultural_group</th>\n",
       "      <th>ethnicity</th>\n",
       "      <th>Days_spend_hsptl</th>\n",
       "      <th>Admission_type</th>\n",
       "      <th>Home_or_self_care</th>\n",
       "      <th>ccs_diagnosis_code</th>\n",
       "      <th>ccs_procedure_code</th>\n",
       "      <th>Code_illness</th>\n",
       "      <th>Mortality_risk</th>\n",
       "      <th>Surg_Description</th>\n",
       "      <th>Emergency_dept_yes_No</th>\n",
       "      <th>Tot_charg</th>\n",
       "      <th>Tot_cost</th>\n",
       "      <th>ratio_of_total_costs_to_total_charges</th>\n",
       "      <th>Result</th>\n",
       "      <th>Payment_Typology</th>\n",
       "    </tr>\n",
       "  </thead>\n",
       "  <tbody>\n",
       "    <tr>\n",
       "      <th>0</th>\n",
       "      <td>6</td>\n",
       "      <td>1</td>\n",
       "      <td>2</td>\n",
       "      <td>1</td>\n",
       "      <td>3</td>\n",
       "      <td>0</td>\n",
       "      <td>4</td>\n",
       "      <td>0</td>\n",
       "      <td>7</td>\n",
       "      <td>122</td>\n",
       "      <td>0</td>\n",
       "      <td>1</td>\n",
       "      <td>1</td>\n",
       "      <td>0</td>\n",
       "      <td>1</td>\n",
       "      <td>5511.95</td>\n",
       "      <td>5582.49</td>\n",
       "      <td>1.012798</td>\n",
       "      <td>1</td>\n",
       "      <td>1</td>\n",
       "    </tr>\n",
       "    <tr>\n",
       "      <th>1</th>\n",
       "      <td>6</td>\n",
       "      <td>1</td>\n",
       "      <td>4</td>\n",
       "      <td>1</td>\n",
       "      <td>3</td>\n",
       "      <td>0</td>\n",
       "      <td>4</td>\n",
       "      <td>5</td>\n",
       "      <td>17</td>\n",
       "      <td>197</td>\n",
       "      <td>0</td>\n",
       "      <td>3</td>\n",
       "      <td>2</td>\n",
       "      <td>0</td>\n",
       "      <td>1</td>\n",
       "      <td>4783.20</td>\n",
       "      <td>5162.82</td>\n",
       "      <td>1.079365</td>\n",
       "      <td>1</td>\n",
       "      <td>1</td>\n",
       "    </tr>\n",
       "    <tr>\n",
       "      <th>2</th>\n",
       "      <td>6</td>\n",
       "      <td>1</td>\n",
       "      <td>2</td>\n",
       "      <td>1</td>\n",
       "      <td>3</td>\n",
       "      <td>0</td>\n",
       "      <td>3</td>\n",
       "      <td>5</td>\n",
       "      <td>7</td>\n",
       "      <td>122</td>\n",
       "      <td>0</td>\n",
       "      <td>1</td>\n",
       "      <td>1</td>\n",
       "      <td>0</td>\n",
       "      <td>1</td>\n",
       "      <td>3829.15</td>\n",
       "      <td>4056.52</td>\n",
       "      <td>1.059379</td>\n",
       "      <td>1</td>\n",
       "      <td>1</td>\n",
       "    </tr>\n",
       "    <tr>\n",
       "      <th>3</th>\n",
       "      <td>6</td>\n",
       "      <td>1</td>\n",
       "      <td>0</td>\n",
       "      <td>1</td>\n",
       "      <td>3</td>\n",
       "      <td>0</td>\n",
       "      <td>1</td>\n",
       "      <td>5</td>\n",
       "      <td>7</td>\n",
       "      <td>122</td>\n",
       "      <td>0</td>\n",
       "      <td>1</td>\n",
       "      <td>1</td>\n",
       "      <td>0</td>\n",
       "      <td>1</td>\n",
       "      <td>1108.20</td>\n",
       "      <td>1644.75</td>\n",
       "      <td>1.484167</td>\n",
       "      <td>0</td>\n",
       "      <td>1</td>\n",
       "    </tr>\n",
       "    <tr>\n",
       "      <th>4</th>\n",
       "      <td>6</td>\n",
       "      <td>1</td>\n",
       "      <td>4</td>\n",
       "      <td>1</td>\n",
       "      <td>3</td>\n",
       "      <td>0</td>\n",
       "      <td>3</td>\n",
       "      <td>0</td>\n",
       "      <td>7</td>\n",
       "      <td>122</td>\n",
       "      <td>0</td>\n",
       "      <td>2</td>\n",
       "      <td>3</td>\n",
       "      <td>0</td>\n",
       "      <td>1</td>\n",
       "      <td>3418.18</td>\n",
       "      <td>3370.87</td>\n",
       "      <td>0.986161</td>\n",
       "      <td>1</td>\n",
       "      <td>1</td>\n",
       "    </tr>\n",
       "  </tbody>\n",
       "</table>\n",
       "</div>"
      ],
      "text/plain": [
       "   Area_Service  Hospital_County  Age  Gender  Cultural_group  ethnicity  \\\n",
       "0             6                1    2       1               3          0   \n",
       "1             6                1    4       1               3          0   \n",
       "2             6                1    2       1               3          0   \n",
       "3             6                1    0       1               3          0   \n",
       "4             6                1    4       1               3          0   \n",
       "\n",
       "   Days_spend_hsptl  Admission_type  Home_or_self_care  ccs_diagnosis_code  \\\n",
       "0                 4               0                  7                 122   \n",
       "1                 4               5                 17                 197   \n",
       "2                 3               5                  7                 122   \n",
       "3                 1               5                  7                 122   \n",
       "4                 3               0                  7                 122   \n",
       "\n",
       "   ccs_procedure_code  Code_illness  Mortality_risk  Surg_Description  \\\n",
       "0                   0             1               1                 0   \n",
       "1                   0             3               2                 0   \n",
       "2                   0             1               1                 0   \n",
       "3                   0             1               1                 0   \n",
       "4                   0             2               3                 0   \n",
       "\n",
       "   Emergency_dept_yes_No  Tot_charg  Tot_cost  \\\n",
       "0                      1    5511.95   5582.49   \n",
       "1                      1    4783.20   5162.82   \n",
       "2                      1    3829.15   4056.52   \n",
       "3                      1    1108.20   1644.75   \n",
       "4                      1    3418.18   3370.87   \n",
       "\n",
       "   ratio_of_total_costs_to_total_charges  Result  Payment_Typology  \n",
       "0                               1.012798       1                 1  \n",
       "1                               1.079365       1                 1  \n",
       "2                               1.059379       1                 1  \n",
       "3                               1.484167       0                 1  \n",
       "4                               0.986161       1                 1  "
      ]
     },
     "execution_count": 35,
     "metadata": {},
     "output_type": "execute_result"
    }
   ],
   "source": [
    "dataset.head()"
   ]
  },
  {
   "cell_type": "markdown",
   "metadata": {},
   "source": [
    "### Data Imbalance..."
   ]
  },
  {
   "cell_type": "code",
   "execution_count": 170,
   "metadata": {},
   "outputs": [
    {
     "data": {
      "image/png": "[encoded data removed]",
      "text/plain": [
       "<Figure size 432x288 with 1 Axes>"
      ]
     },
     "metadata": {
      "needs_background": "light"
     },
     "output_type": "display_data"
    }
   ],
   "source": [
    "sns.countplot(dataset.Result)\n",
    "plt.show()"
   ]
  },
  {
   "cell_type": "markdown",
   "metadata": {},
   "source": [
    "# Step 3: Model By different strategy..."
   ]
  },
  {
   "cell_type": "markdown",
   "metadata": {},
   "source": [
    "#### Performing on sample datasets..."
   ]
  },
  {
   "cell_type": "code",
   "execution_count": 171,
   "metadata": {},
   "outputs": [],
   "source": [
    "# taking 5% sample data from whole dataset\n",
    "\n",
    "sample_data = dataset.sample(frac=0.02)"
   ]
  },
  {
   "cell_type": "code",
   "execution_count": 40,
   "metadata": {},
   "outputs": [
    {
     "data": {
      "text/plain": [
       "1    15518\n",
       "0     5307\n",
       "Name: Result, dtype: int64"
      ]
     },
     "execution_count": 40,
     "metadata": {},
     "output_type": "execute_result"
    }
   ],
   "source": [
    "# checking for result column unique values counts..\n",
    "\n",
    "sample_data.Result.value_counts()"
   ]
  },
  {
   "cell_type": "code",
   "execution_count": 41,
   "metadata": {},
   "outputs": [
    {
     "data": {
      "image/png": "[encoded data removed]",
      "text/plain": [
       "<Figure size 432x288 with 1 Axes>"
      ]
     },
     "metadata": {
      "needs_background": "light"
     },
     "output_type": "display_data"
    }
   ],
   "source": [
    "sns.countplot(sample_data.Result)\n",
    "plt.show()"
   ]
  },
  {
   "cell_type": "markdown",
   "metadata": {},
   "source": [
    "## 3.1 Upsampling before splitting the data into train & test\n",
    "****"
   ]
  },
  {
   "cell_type": "code",
   "execution_count": 42,
   "metadata": {},
   "outputs": [],
   "source": [
    "# seperating '0', & '1' label \n",
    "\n",
    "sample_minority = sample_data.loc[sample_data['Result']==0]\n",
    "sample_majority = sample_data.loc[sample_data['Result']==1]"
   ]
  },
  {
   "cell_type": "code",
   "execution_count": 43,
   "metadata": {},
   "outputs": [],
   "source": [
    "# doing upsampling of minority classes... taking 100 to 80% ratio\n",
    "\n",
    "# sample_majority.shape[0]*0.80\n",
    "\n",
    "from sklearn.utils import resample\n",
    "sample_data_minority_upsampled = resample(sample_minority , replace=True, n_samples=12000, random_state=42)"
   ]
  },
  {
   "cell_type": "code",
   "execution_count": 44,
   "metadata": {},
   "outputs": [],
   "source": [
    "# combining upsampled data to majority class data...\n",
    "\n",
    "sample_data_upsampled = pd.concat([sample_majority, sample_data_minority_upsampled ], ignore_index=True)"
   ]
  },
  {
   "cell_type": "code",
   "execution_count": 45,
   "metadata": {},
   "outputs": [],
   "source": [
    "# seperating indepedent & depedent variabales..\n",
    "\n",
    "x = sample_data_upsampled.drop(['Result'],axis=1).values\n",
    "y = sample_data_upsampled.Result.values"
   ]
  },
  {
   "cell_type": "code",
   "execution_count": 46,
   "metadata": {},
   "outputs": [],
   "source": [
    "x_train, x_test, y_train, y_test = train_test_split(x, y, test_size=0.2, stratify = y, random_state=42)"
   ]
  },
  {
   "cell_type": "code",
   "execution_count": 47,
   "metadata": {},
   "outputs": [],
   "source": [
    "# finding best ccp_alph tree prunning parameter. So that it will avoid overfit issue\n",
    "\n",
    "def find_alpha(x_train, x_test, y_train, y_test):\n",
    "    \n",
    "    import matplotlib.pyplot as plt\n",
    "    from sklearn.ensemble import RandomForestClassifier\n",
    "    \n",
    "    \n",
    "    ccp_alphas = np.arange(0.000, 0.040, 0.002)\n",
    "    clfs = []\n",
    "    for ccp_alpha in ccp_alphas:\n",
    "        clf = RandomForestClassifier(n_estimators=15, random_state=42, ccp_alpha=ccp_alpha)\n",
    "        clf.fit(x_train, y_train)\n",
    "        clfs.append(clf)\n",
    "\n",
    "    train_scores = [clf.score(x_train, y_train) for clf in clfs]\n",
    "    test_scores = [clf.score(x_test, y_test) for clf in clfs]\n",
    "\n",
    "    fig, ax = plt.subplots(figsize=(15,6))\n",
    "    ax.set_xlabel(\"alpha\")\n",
    "    ax.set_ylabel(\"accuracy\")\n",
    "    ax.set_title(\"Accuracy vs alpha for training and testing sets\")\n",
    "    ax.plot(ccp_alphas, train_scores, marker='o', label=\"train\",drawstyle=\"steps-post\")\n",
    "    ax.plot(ccp_alphas, test_scores, marker='o', label=\"test\",drawstyle=\"steps-post\")\n",
    "    ax.set_xticks(np.arange(0.000,0.040, 0.002))\n",
    "    ax.set_yticks(np.arange(0.70,1.01, 0.1))\n",
    "    ax.legend()\n",
    "    plt.grid(True)\n",
    "    plt.rcParams['xtick.labelsize']=12\n",
    "    plt.rcParams['ytick.labelsize']=12\n",
    "    plt.show()\n"
   ]
  },
  {
   "cell_type": "code",
   "execution_count": 48,
   "metadata": {},
   "outputs": [
    {
     "data": {
      "image/png": "[encoded data removed]",
      "text/plain": [
       "<Figure size 1080x432 with 1 Axes>"
      ]
     },
     "metadata": {
      "needs_background": "light"
     },
     "output_type": "display_data"
    }
   ],
   "source": [
    "find_alpha(x_train, x_test, y_train, y_test)"
   ]
  },
  {
   "cell_type": "markdown",
   "metadata": {},
   "source": [
    "* ccp_alph parameter should be zero for this case."
   ]
  },
  {
   "cell_type": "markdown",
   "metadata": {},
   "source": [
    "### Building Model with n_estimators=100"
   ]
  },
  {
   "cell_type": "code",
   "execution_count": 49,
   "metadata": {},
   "outputs": [],
   "source": [
    "from sklearn.ensemble import RandomForestClassifier\n",
    "sample_RF_upsampled = RandomForestClassifier(n_estimators=100, random_state=42)"
   ]
  },
  {
   "cell_type": "code",
   "execution_count": 51,
   "metadata": {},
   "outputs": [],
   "source": [
    "clf_sample = sample_RF_upsampled.fit(x_train, y_train)"
   ]
  },
  {
   "cell_type": "code",
   "execution_count": 53,
   "metadata": {},
   "outputs": [],
   "source": [
    "y_pred_train = clf_sample.predict(x_train)\n",
    "y_pred = clf_sample.predict(x_test)"
   ]
  },
  {
   "cell_type": "code",
   "execution_count": 54,
   "metadata": {},
   "outputs": [
    {
     "name": "stdout",
     "output_type": "stream",
     "text": [
      "              precision    recall  f1-score   support\n",
      "\n",
      "           0       1.00      1.00      1.00      9600\n",
      "           1       1.00      1.00      1.00     12414\n",
      "\n",
      "    accuracy                           1.00     22014\n",
      "   macro avg       1.00      1.00      1.00     22014\n",
      "weighted avg       1.00      1.00      1.00     22014\n",
      "\n"
     ]
    }
   ],
   "source": [
    "print(classification_report(y_train, y_pred_train ))"
   ]
  },
  {
   "cell_type": "code",
   "execution_count": 55,
   "metadata": {},
   "outputs": [
    {
     "name": "stdout",
     "output_type": "stream",
     "text": [
      "              precision    recall  f1-score   support\n",
      "\n",
      "           0       0.90      0.84      0.87      2400\n",
      "           1       0.88      0.93      0.91      3104\n",
      "\n",
      "    accuracy                           0.89      5504\n",
      "   macro avg       0.89      0.89      0.89      5504\n",
      "weighted avg       0.89      0.89      0.89      5504\n",
      "\n"
     ]
    }
   ],
   "source": [
    "print(classification_report(y_test, y_pred ))"
   ]
  },
  {
   "cell_type": "code",
   "execution_count": 56,
   "metadata": {},
   "outputs": [
    {
     "data": {
      "text/plain": [
       "array([0.89807413, 0.90116279, 0.89607558, 0.90078139, 0.89024169])"
      ]
     },
     "execution_count": 56,
     "metadata": {},
     "output_type": "execute_result"
    }
   ],
   "source": [
    "cross_val_score(clf_sample, x, y)"
   ]
  },
  {
   "cell_type": "markdown",
   "metadata": {},
   "source": [
    "### Building Model with n_estimators=15"
   ]
  },
  {
   "cell_type": "code",
   "execution_count": 57,
   "metadata": {},
   "outputs": [],
   "source": [
    "from sklearn.ensemble import RandomForestClassifier\n",
    "sample_RF15_upsampled = RandomForestClassifier(n_estimators=15, random_state=42)"
   ]
  },
  {
   "cell_type": "code",
   "execution_count": 58,
   "metadata": {},
   "outputs": [],
   "source": [
    "clf_15_sample = sample_RF_upsampled.fit(x_train, y_train)"
   ]
  },
  {
   "cell_type": "code",
   "execution_count": 59,
   "metadata": {},
   "outputs": [],
   "source": [
    "y_pred_train = clf_15_sample.predict(x_train)\n",
    "y_pred = clf_15_sample.predict(x_test)"
   ]
  },
  {
   "cell_type": "code",
   "execution_count": 60,
   "metadata": {},
   "outputs": [
    {
     "name": "stdout",
     "output_type": "stream",
     "text": [
      "              precision    recall  f1-score   support\n",
      "\n",
      "           0       1.00      1.00      1.00      9600\n",
      "           1       1.00      1.00      1.00     12414\n",
      "\n",
      "    accuracy                           1.00     22014\n",
      "   macro avg       1.00      1.00      1.00     22014\n",
      "weighted avg       1.00      1.00      1.00     22014\n",
      "\n"
     ]
    }
   ],
   "source": [
    "print(classification_report(y_train, y_pred_train ))"
   ]
  },
  {
   "cell_type": "code",
   "execution_count": 61,
   "metadata": {},
   "outputs": [
    {
     "name": "stdout",
     "output_type": "stream",
     "text": [
      "              precision    recall  f1-score   support\n",
      "\n",
      "           0       0.90      0.84      0.87      2400\n",
      "           1       0.88      0.93      0.91      3104\n",
      "\n",
      "    accuracy                           0.89      5504\n",
      "   macro avg       0.89      0.89      0.89      5504\n",
      "weighted avg       0.89      0.89      0.89      5504\n",
      "\n"
     ]
    }
   ],
   "source": [
    "print(classification_report(y_test, y_pred ))"
   ]
  },
  {
   "cell_type": "code",
   "execution_count": 62,
   "metadata": {},
   "outputs": [
    {
     "data": {
      "text/plain": [
       "array([0.89807413, 0.90116279, 0.89607558, 0.90078139, 0.89024169])"
      ]
     },
     "execution_count": 62,
     "metadata": {},
     "output_type": "execute_result"
    }
   ],
   "source": [
    "cross_val_score(clf_15_sample, x, y)"
   ]
  },
  {
   "cell_type": "code",
   "execution_count": 91,
   "metadata": {},
   "outputs": [
    {
     "name": "stdout",
     "output_type": "stream",
     "text": [
      "              precision    recall  f1-score   support\n",
      "\n",
      "           0       0.30      0.08      0.12    260904\n",
      "           1       0.75      0.94      0.84    780361\n",
      "\n",
      "    accuracy                           0.72   1041265\n",
      "   macro avg       0.53      0.51      0.48   1041265\n",
      "weighted avg       0.64      0.72      0.66   1041265\n",
      "\n"
     ]
    }
   ],
   "source": [
    "y_pred_whole = clf_15_sample.predict(dataset.drop(['Result'],axis=1))\n",
    "\n",
    "print(classification_report(dataset.Result.values, y_pred_whole))"
   ]
  },
  {
   "cell_type": "markdown",
   "metadata": {},
   "source": [
    "## 3.2 Upsampling after train_test_split..."
   ]
  },
  {
   "cell_type": "markdown",
   "metadata": {},
   "source": [
    "### 3.1 Upsampling using sklearn resample"
   ]
  },
  {
   "cell_type": "code",
   "execution_count": 63,
   "metadata": {},
   "outputs": [],
   "source": [
    "x = sample_data.drop(['Result'],axis=1).values\n",
    "y = sample_data.Result.values"
   ]
  },
  {
   "cell_type": "code",
   "execution_count": 64,
   "metadata": {},
   "outputs": [],
   "source": [
    "x_train, x_test, y_train, y_test = train_test_split(x, y, test_size=0.2, stratify = y, random_state=42)"
   ]
  },
  {
   "cell_type": "code",
   "execution_count": 65,
   "metadata": {},
   "outputs": [
    {
     "data": {
      "text/plain": [
       "Counter({0: 4246, 1: 12414})"
      ]
     },
     "execution_count": 65,
     "metadata": {},
     "output_type": "execute_result"
    }
   ],
   "source": [
    "from collections import Counter\n",
    "Counter(y_train)"
   ]
  },
  {
   "cell_type": "code",
   "execution_count": 66,
   "metadata": {},
   "outputs": [],
   "source": [
    "x_train_df = pd.DataFrame(x_train, columns=sample_data.drop(['Result'],axis=1).columns)\n",
    "y_train_df = pd.DataFrame(y_train, columns=['Result'])\n",
    "\n",
    "df_train = pd.concat([x_train_df, y_train_df],axis=1)"
   ]
  },
  {
   "cell_type": "code",
   "execution_count": 67,
   "metadata": {},
   "outputs": [],
   "source": [
    "df_train_majority = df_train.loc[df_train['Result']==1]\n",
    "df_train_minority = df_train.loc[df_train['Result']==0]"
   ]
  },
  {
   "cell_type": "code",
   "execution_count": 68,
   "metadata": {},
   "outputs": [
    {
     "data": {
      "text/plain": [
       "(12414, 20)"
      ]
     },
     "execution_count": 68,
     "metadata": {},
     "output_type": "execute_result"
    }
   ],
   "source": [
    "df_train_majority.shape"
   ]
  },
  {
   "cell_type": "code",
   "execution_count": 69,
   "metadata": {},
   "outputs": [
    {
     "data": {
      "text/plain": [
       "(4246, 20)"
      ]
     },
     "execution_count": 69,
     "metadata": {},
     "output_type": "execute_result"
    }
   ],
   "source": [
    "df_train_minority.shape"
   ]
  },
  {
   "cell_type": "code",
   "execution_count": 70,
   "metadata": {},
   "outputs": [
    {
     "data": {
      "text/plain": [
       "9989.6"
      ]
     },
     "execution_count": 70,
     "metadata": {},
     "output_type": "execute_result"
    }
   ],
   "source": [
    "# checking 80% row counts w.r.t majority class\n",
    "12487*0.80"
   ]
  },
  {
   "cell_type": "code",
   "execution_count": 71,
   "metadata": {},
   "outputs": [],
   "source": [
    "# doing upsampling of minority classes... taking 100 to 80% ratio\n",
    "\n",
    "# sample_majority.shape[0]*0.80\n",
    "\n",
    "from sklearn.utils import resample\n",
    "df_train_minority_upsampled = resample(df_train_minority , replace=True, n_samples=9990, random_state=42)"
   ]
  },
  {
   "cell_type": "code",
   "execution_count": 72,
   "metadata": {},
   "outputs": [],
   "source": [
    "after_split_upsampled = pd.concat([df_train_majority, df_train_minority_upsampled])"
   ]
  },
  {
   "cell_type": "code",
   "execution_count": 73,
   "metadata": {},
   "outputs": [],
   "source": [
    "# splitting into x_train, y_train only..note: we have alerady splitted test sets using k fold...\n",
    "\n",
    "x_train_upsampled = after_split_upsampled.drop(['Result'],axis=1).values\n",
    "y_train_upsampled = after_split_upsampled.Result.values"
   ]
  },
  {
   "cell_type": "code",
   "execution_count": 74,
   "metadata": {},
   "outputs": [],
   "source": [
    "from sklearn.ensemble import RandomForestClassifier\n",
    "sample_RF15_after_split_upsampled = RandomForestClassifier(n_estimators=15, random_state=42)"
   ]
  },
  {
   "cell_type": "code",
   "execution_count": 75,
   "metadata": {},
   "outputs": [],
   "source": [
    "sample_RF15_after_split_upsampled = sample_RF15_after_split_upsampled.fit(x_train_upsampled, y_train_upsampled)"
   ]
  },
  {
   "cell_type": "code",
   "execution_count": 76,
   "metadata": {},
   "outputs": [],
   "source": [
    "y_pred_train = sample_RF15_after_split_upsampled.predict(x_train_upsampled)\n",
    "y_pred = sample_RF15_after_split_upsampled.predict(x_test)"
   ]
  },
  {
   "cell_type": "code",
   "execution_count": 77,
   "metadata": {},
   "outputs": [
    {
     "data": {
      "text/plain": [
       "Counter({1: 3104, 0: 1061})"
      ]
     },
     "execution_count": 77,
     "metadata": {},
     "output_type": "execute_result"
    }
   ],
   "source": [
    "Counter(y_test)"
   ]
  },
  {
   "cell_type": "code",
   "execution_count": 78,
   "metadata": {},
   "outputs": [
    {
     "name": "stdout",
     "output_type": "stream",
     "text": [
      "              precision    recall  f1-score   support\n",
      "\n",
      "           0       1.00      1.00      1.00      9990\n",
      "           1       1.00      1.00      1.00     12414\n",
      "\n",
      "    accuracy                           1.00     22404\n",
      "   macro avg       1.00      1.00      1.00     22404\n",
      "weighted avg       1.00      1.00      1.00     22404\n",
      "\n"
     ]
    }
   ],
   "source": [
    "print(classification_report(y_train_upsampled, y_pred_train ))"
   ]
  },
  {
   "cell_type": "code",
   "execution_count": 79,
   "metadata": {},
   "outputs": [
    {
     "name": "stdout",
     "output_type": "stream",
     "text": [
      "              precision    recall  f1-score   support\n",
      "\n",
      "           0       0.25      0.09      0.14      1061\n",
      "           1       0.74      0.90      0.82      3104\n",
      "\n",
      "    accuracy                           0.70      4165\n",
      "   macro avg       0.50      0.50      0.48      4165\n",
      "weighted avg       0.62      0.70      0.64      4165\n",
      "\n"
     ]
    }
   ],
   "source": [
    "print(classification_report(y_test, y_pred ))"
   ]
  },
  {
   "cell_type": "markdown",
   "metadata": {},
   "source": [
    "### Conclusion:\n",
    "\n",
    "* It is clear that, upsampling tech. is best suited for imbalanced dataset..when we upsample minority class before train_test_split"
   ]
  },
  {
   "cell_type": "markdown",
   "metadata": {},
   "source": [
    "# Step 4: Model Building On whole dataset..."
   ]
  },
  {
   "cell_type": "code",
   "execution_count": 38,
   "metadata": {},
   "outputs": [],
   "source": [
    "data_minority = dataset.loc[dataset['Result']==0]\n",
    "data_majority = dataset.loc[dataset['Result']==1]"
   ]
  },
  {
   "cell_type": "code",
   "execution_count": 39,
   "metadata": {},
   "outputs": [],
   "source": [
    "from sklearn.utils import resample\n",
    "data_minority_upsampled = resample(data_minority, replace=True, n_samples=624290, random_state=42)\n",
    "data_upsampled = pd.concat([data_majority, data_minority_upsampled ], ignore_index=True)"
   ]
  },
  {
   "cell_type": "code",
   "execution_count": 174,
   "metadata": {},
   "outputs": [],
   "source": [
    "X = data_upsampled.drop(['Result'],axis=1).values\n",
    "Y = data_upsampled.Result.values"
   ]
  },
  {
   "cell_type": "code",
   "execution_count": 175,
   "metadata": {},
   "outputs": [],
   "source": [
    "x_train, x_test, y_train, y_test = train_test_split(X, Y, test_size=0.2, stratify=Y, random_state=30)"
   ]
  },
  {
   "cell_type": "code",
   "execution_count": 176,
   "metadata": {},
   "outputs": [],
   "source": [
    "from sklearn.ensemble import RandomForestClassifier\n",
    "model_rf_upsampled = RandomForestClassifier(n_estimators=15, random_state=42)"
   ]
  },
  {
   "cell_type": "code",
   "execution_count": 177,
   "metadata": {},
   "outputs": [
    {
     "data": {
      "text/plain": [
       "RandomForestClassifier(n_estimators=15, random_state=42)"
      ]
     },
     "execution_count": 177,
     "metadata": {},
     "output_type": "execute_result"
    }
   ],
   "source": [
    "model_rf_upsampled.fit(x_train, y_train)"
   ]
  },
  {
   "cell_type": "code",
   "execution_count": 178,
   "metadata": {},
   "outputs": [],
   "source": [
    "y_pred_train = model_rf_upsampled.predict(x_train)\n",
    "y_pred_test = model_rf_upsampled.predict(x_test)"
   ]
  },
  {
   "cell_type": "code",
   "execution_count": 179,
   "metadata": {},
   "outputs": [
    {
     "name": "stdout",
     "output_type": "stream",
     "text": [
      "              precision    recall  f1-score   support\n",
      "\n",
      "           0       0.99      0.99      0.99    499432\n",
      "           1       0.99      0.99      0.99    624288\n",
      "\n",
      "    accuracy                           0.99   1123720\n",
      "   macro avg       0.99      0.99      0.99   1123720\n",
      "weighted avg       0.99      0.99      0.99   1123720\n",
      "\n"
     ]
    }
   ],
   "source": [
    "# classification report...for train set\n",
    "print(classification_report(y_train, y_pred_train))"
   ]
  },
  {
   "cell_type": "code",
   "execution_count": 180,
   "metadata": {},
   "outputs": [
    {
     "name": "stdout",
     "output_type": "stream",
     "text": [
      "              precision    recall  f1-score   support\n",
      "\n",
      "           0       0.84      0.86      0.85    124858\n",
      "           1       0.89      0.87      0.88    156073\n",
      "\n",
      "    accuracy                           0.87    280931\n",
      "   macro avg       0.86      0.87      0.86    280931\n",
      "weighted avg       0.87      0.87      0.87    280931\n",
      "\n"
     ]
    }
   ],
   "source": [
    "# classification report...for test set\n",
    "print(classification_report(y_test, y_pred_test))"
   ]
  },
  {
   "cell_type": "code",
   "execution_count": 181,
   "metadata": {},
   "outputs": [
    {
     "name": "stdout",
     "output_type": "stream",
     "text": [
      "              precision    recall  f1-score   support\n",
      "\n",
      "           0       0.90      0.86      0.88    260904\n",
      "           1       0.95      0.97      0.96    780361\n",
      "\n",
      "    accuracy                           0.94   1041265\n",
      "   macro avg       0.93      0.91      0.92   1041265\n",
      "weighted avg       0.94      0.94      0.94   1041265\n",
      "\n"
     ]
    }
   ],
   "source": [
    "y_pred_whole = model_rf_upsampled.predict(dataset.drop(['Result'],axis=1))\n",
    "\n",
    "print(classification_report(dataset.Result.values, y_pred_whole))"
   ]
  },
  {
   "cell_type": "markdown",
   "metadata": {},
   "source": [
    "#### Saving model..."
   ]
  },
  {
   "cell_type": "code",
   "execution_count": 182,
   "metadata": {},
   "outputs": [
    {
     "data": {
      "text/plain": [
       "['model_rf_upsampled.joblib']"
      ]
     },
     "execution_count": 182,
     "metadata": {},
     "output_type": "execute_result"
    }
   ],
   "source": [
    "from joblib import dump, load\n",
    "dump(model_rf_upsampled, 'model_rf_upsampled.joblib') "
   ]
  },
  {
   "cell_type": "code",
   "execution_count": 183,
   "metadata": {},
   "outputs": [],
   "source": [
    "from sklearn.metrics import f1_score\n",
    "\n",
    "skf = StratifiedKFold(n_splits=5, shuffle=True, random_state=1) \n",
    "lst_accu_stratified = [] \n",
    "\n",
    "x = dataset.drop(['Result'],axis=1).values\n",
    "y = dataset.Result.values\n",
    "   \n",
    "for train_index, test_index in skf.split(x, y): \n",
    "    x_train_fold, x_test_fold = x[train_index], x[test_index] \n",
    "    y_train_fold, y_test_fold = y[train_index], y[test_index] \n",
    "    model_rf_upsampled.fit(x_train_fold, y_train_fold)\n",
    "    lst_accu_stratified.append(f1_score(y_test_fold, model_rf_upsampled.predict(x_test_fold))) "
   ]
  },
  {
   "cell_type": "code",
   "execution_count": 184,
   "metadata": {},
   "outputs": [
    {
     "name": "stdout",
     "output_type": "stream",
     "text": [
      "List of possible F1 score: [0.8334086728587228, 0.8345982808837109, 0.8342140195390113, 0.8338922741121367, 0.8341324087363051]\n",
      "\n",
      "Maximum F1 score That can be obtained from this model is: 83.46\n",
      "\n",
      "Minimum F1 score: 83.34\n",
      "\n",
      "Overall F1 score: 83.4\n",
      "\n",
      "Standard Deviation is: 0.0\n"
     ]
    }
   ],
   "source": [
    "# Print the output. \n",
    "print('List of possible F1 score:', lst_accu_stratified) \n",
    "print('\\nMaximum F1 score That can be obtained from this model is:', \n",
    "      (np.round(max(lst_accu_stratified)*100, 2)))\n",
    "print('\\nMinimum F1 score:', \n",
    "      (np.round(min(lst_accu_stratified)*100,2))) \n",
    "print('\\nOverall F1 score:', \n",
    "     (np.round(np.mean(lst_accu_stratified)*100,2)))\n",
    "print('\\nStandard Deviation is:', np.round(np.std(lst_accu_stratified)))"
   ]
  },
  {
   "cell_type": "markdown",
   "metadata": {},
   "source": [
    "#### predicting on different samples from dataset"
   ]
  },
  {
   "cell_type": "code",
   "execution_count": 185,
   "metadata": {},
   "outputs": [],
   "source": [
    "sample_002 = dataset.sample(frac=0.02)\n",
    "sample_007 =  dataset.sample(frac=0.07)\n",
    "sample_009 = dataset.sample(frac=0.09)\n",
    "\n",
    "sample_010 = dataset.sample(frac=0.10)\n",
    "sample_015 =  dataset.sample(frac=0.15)\n",
    "sample_030= dataset.sample(frac=0.30)\n",
    "\n",
    "sample_0005 = dataset.sample(frac=0.005)"
   ]
  },
  {
   "cell_type": "code",
   "execution_count": 186,
   "metadata": {},
   "outputs": [
    {
     "data": {
      "text/plain": [
       "(1041265, 20)"
      ]
     },
     "execution_count": 186,
     "metadata": {},
     "output_type": "execute_result"
    }
   ],
   "source": [
    "dataset.shape"
   ]
  },
  {
   "cell_type": "code",
   "execution_count": 187,
   "metadata": {},
   "outputs": [
    {
     "data": {
      "text/plain": [
       "Counter({1: 234109, 0: 78271})"
      ]
     },
     "execution_count": 187,
     "metadata": {},
     "output_type": "execute_result"
    }
   ],
   "source": [
    "Counter(sample_030.Result)"
   ]
  },
  {
   "cell_type": "code",
   "execution_count": 188,
   "metadata": {},
   "outputs": [
    {
     "name": "stdout",
     "output_type": "stream",
     "text": [
      "              precision    recall  f1-score   support\n",
      "\n",
      "           0       0.95      0.78      0.86      5155\n",
      "           1       0.93      0.99      0.96     15670\n",
      "\n",
      "    accuracy                           0.94     20825\n",
      "   macro avg       0.94      0.88      0.91     20825\n",
      "weighted avg       0.94      0.94      0.93     20825\n",
      "\n"
     ]
    }
   ],
   "source": [
    "y_pred_002 = model_rf_upsampled.predict(sample_002.drop(['Result'],axis=1))\n",
    "\n",
    "print(classification_report(sample_002.Result.values, y_pred_002))"
   ]
  },
  {
   "cell_type": "code",
   "execution_count": 189,
   "metadata": {},
   "outputs": [
    {
     "name": "stdout",
     "output_type": "stream",
     "text": [
      "              precision    recall  f1-score   support\n",
      "\n",
      "           0       0.95      0.77      0.85     18228\n",
      "           1       0.93      0.99      0.96     54661\n",
      "\n",
      "    accuracy                           0.93     72889\n",
      "   macro avg       0.94      0.88      0.90     72889\n",
      "weighted avg       0.93      0.93      0.93     72889\n",
      "\n"
     ]
    }
   ],
   "source": [
    "y_pred_007 = model_rf_upsampled.predict(sample_007.drop(['Result'],axis=1))\n",
    "\n",
    "print(classification_report(sample_007.Result.values, y_pred_007))"
   ]
  },
  {
   "cell_type": "code",
   "execution_count": 190,
   "metadata": {},
   "outputs": [
    {
     "name": "stdout",
     "output_type": "stream",
     "text": [
      "              precision    recall  f1-score   support\n",
      "\n",
      "           0       0.95      0.77      0.85     23648\n",
      "           1       0.93      0.99      0.96     70066\n",
      "\n",
      "    accuracy                           0.93     93714\n",
      "   macro avg       0.94      0.88      0.90     93714\n",
      "weighted avg       0.93      0.93      0.93     93714\n",
      "\n"
     ]
    }
   ],
   "source": [
    "y_pred_009 = model_rf_upsampled.predict(sample_009.drop(['Result'],axis=1))\n",
    "\n",
    "print(classification_report(sample_009.Result.values, y_pred_009))"
   ]
  },
  {
   "cell_type": "code",
   "execution_count": 191,
   "metadata": {},
   "outputs": [
    {
     "name": "stdout",
     "output_type": "stream",
     "text": [
      "              precision    recall  f1-score   support\n",
      "\n",
      "           0       0.95      0.77      0.85     26103\n",
      "           1       0.93      0.99      0.96     78023\n",
      "\n",
      "    accuracy                           0.93    104126\n",
      "   macro avg       0.94      0.88      0.90    104126\n",
      "weighted avg       0.93      0.93      0.93    104126\n",
      "\n"
     ]
    }
   ],
   "source": [
    "y_pred_010 = model_rf_upsampled.predict(sample_010.drop(['Result'],axis=1))\n",
    "\n",
    "print(classification_report(sample_010.Result.values, y_pred_010))"
   ]
  },
  {
   "cell_type": "code",
   "execution_count": 192,
   "metadata": {},
   "outputs": [
    {
     "name": "stdout",
     "output_type": "stream",
     "text": [
      "              precision    recall  f1-score   support\n",
      "\n",
      "           0       0.95      0.77      0.85     39246\n",
      "           1       0.93      0.99      0.96    116944\n",
      "\n",
      "    accuracy                           0.93    156190\n",
      "   macro avg       0.94      0.88      0.91    156190\n",
      "weighted avg       0.93      0.93      0.93    156190\n",
      "\n"
     ]
    }
   ],
   "source": [
    "y_pred_015 = model_rf_upsampled.predict(sample_015.drop(['Result'],axis=1))\n",
    "\n",
    "print(classification_report(sample_015.Result.values, y_pred_015))"
   ]
  },
  {
   "cell_type": "code",
   "execution_count": 193,
   "metadata": {},
   "outputs": [
    {
     "name": "stdout",
     "output_type": "stream",
     "text": [
      "              precision    recall  f1-score   support\n",
      "\n",
      "           0       0.95      0.77      0.85     78271\n",
      "           1       0.93      0.99      0.96    234109\n",
      "\n",
      "    accuracy                           0.93    312380\n",
      "   macro avg       0.94      0.88      0.91    312380\n",
      "weighted avg       0.93      0.93      0.93    312380\n",
      "\n"
     ]
    }
   ],
   "source": [
    "y_pred_030 = model_rf_upsampled.predict(sample_030.drop(['Result'],axis=1))\n",
    "\n",
    "print(classification_report(sample_030.Result.values, y_pred_030))"
   ]
  },
  {
   "cell_type": "code",
   "execution_count": 194,
   "metadata": {},
   "outputs": [
    {
     "name": "stdout",
     "output_type": "stream",
     "text": [
      "              precision    recall  f1-score   support\n",
      "\n",
      "           0       0.96      0.77      0.85      1297\n",
      "           1       0.93      0.99      0.96      3909\n",
      "\n",
      "    accuracy                           0.93      5206\n",
      "   macro avg       0.94      0.88      0.91      5206\n",
      "weighted avg       0.94      0.93      0.93      5206\n",
      "\n"
     ]
    }
   ],
   "source": [
    "y_pred_0005 = model_rf_upsampled.predict(sample_0005.drop(['Result'],axis=1))\n",
    "\n",
    "print(classification_report(sample_0005.Result.values, y_pred_0005))"
   ]
  },
  {
   "cell_type": "markdown",
   "metadata": {},
   "source": [
    "### Building model for small sample for deployment purpose"
   ]
  },
  {
   "cell_type": "code",
   "execution_count": 142,
   "metadata": {},
   "outputs": [],
   "source": [
    "# taking sample data from dataset..\n",
    "\n",
    "sample = dataset.sample(frac=0.6)"
   ]
  },
  {
   "cell_type": "code",
   "execution_count": 143,
   "metadata": {},
   "outputs": [
    {
     "name": "stdout",
     "output_type": "stream",
     "text": [
      "<class 'pandas.core.frame.DataFrame'>\n",
      "Int64Index: 624759 entries, 579948 to 897391\n",
      "Data columns (total 20 columns):\n",
      " #   Column                                 Non-Null Count   Dtype  \n",
      "---  ------                                 --------------   -----  \n",
      " 0   Area_Service                           624759 non-null  int32  \n",
      " 1   Hospital_County                        624759 non-null  int32  \n",
      " 2   Age                                    624759 non-null  int32  \n",
      " 3   Gender                                 624759 non-null  int32  \n",
      " 4   Cultural_group                         624759 non-null  int32  \n",
      " 5   ethnicity                              624759 non-null  int32  \n",
      " 6   Days_spend_hsptl                       624759 non-null  int32  \n",
      " 7   Admission_type                         624759 non-null  int32  \n",
      " 8   Home_or_self_care                      624759 non-null  int32  \n",
      " 9   ccs_diagnosis_code                     624759 non-null  int64  \n",
      " 10  ccs_procedure_code                     624759 non-null  int64  \n",
      " 11  Code_illness                           624759 non-null  int64  \n",
      " 12  Mortality_risk                         624759 non-null  int32  \n",
      " 13  Surg_Description                       624759 non-null  int32  \n",
      " 14  Emergency_dept_yes_No                  624759 non-null  int32  \n",
      " 15  Tot_charg                              624759 non-null  float64\n",
      " 16  Tot_cost                               624759 non-null  float64\n",
      " 17  ratio_of_total_costs_to_total_charges  624759 non-null  float64\n",
      " 18  Result                                 624759 non-null  int64  \n",
      " 19  Payment_Typology                       624759 non-null  int64  \n",
      "dtypes: float64(3), int32(12), int64(5)\n",
      "memory usage: 71.5 MB\n"
     ]
    }
   ],
   "source": [
    "# checking memory size of sample data..\n",
    "\n",
    "sample.info()"
   ]
  },
  {
   "cell_type": "markdown",
   "metadata": {},
   "source": [
    "* Now it is showing 71.5 MB size which will be ok for deployment part of view.\n",
    "\n",
    "* Note: This model will may not be good fit on whole dataset. F1 score, Accuracy may drop in large proportion"
   ]
  },
  {
   "cell_type": "code",
   "execution_count": 144,
   "metadata": {},
   "outputs": [
    {
     "data": {
      "text/plain": [
       "1    468447\n",
       "0    156312\n",
       "Name: Result, dtype: int64"
      ]
     },
     "execution_count": 144,
     "metadata": {},
     "output_type": "execute_result"
    }
   ],
   "source": [
    "# Checking for imbalance state\n",
    "\n",
    "sample.Result.value_counts()"
   ]
  },
  {
   "cell_type": "code",
   "execution_count": 145,
   "metadata": {},
   "outputs": [
    {
     "data": {
      "text/plain": [
       "374757.60000000003"
      ]
     },
     "execution_count": 145,
     "metadata": {},
     "output_type": "execute_result"
    }
   ],
   "source": [
    " 468447*0.80"
   ]
  },
  {
   "cell_type": "code",
   "execution_count": 146,
   "metadata": {},
   "outputs": [],
   "source": [
    "# seperating majority & minority classes\n",
    "\n",
    "sample_1 = sample.loc[sample['Result']==1]\n",
    "sample_0 = sample.loc[sample['Result']==0]"
   ]
  },
  {
   "cell_type": "code",
   "execution_count": 147,
   "metadata": {},
   "outputs": [],
   "source": [
    "# and will do downsampling of class '1'\n",
    "\n",
    "from sklearn.utils import resample\n",
    "sample_0 = resample(sample_0, replace=True, n_samples=374757, random_state=42)\n",
    "\n",
    "sample_upsampled = pd.concat([sample_0, sample_1], ignore_index=True)"
   ]
  },
  {
   "cell_type": "code",
   "execution_count": 148,
   "metadata": {},
   "outputs": [
    {
     "data": {
      "text/plain": [
       "(843204, 20)"
      ]
     },
     "execution_count": 148,
     "metadata": {},
     "output_type": "execute_result"
    }
   ],
   "source": [
    "sample_upsampled.shape"
   ]
  },
  {
   "cell_type": "code",
   "execution_count": 149,
   "metadata": {},
   "outputs": [
    {
     "data": {
      "text/plain": [
       "1    0.555556\n",
       "0    0.444444\n",
       "Name: Result, dtype: float64"
      ]
     },
     "execution_count": 149,
     "metadata": {},
     "output_type": "execute_result"
    }
   ],
   "source": [
    "# Checking for imbalance state\n",
    "\n",
    "sample_upsampled.Result.value_counts(normalize=True)"
   ]
  },
  {
   "cell_type": "code",
   "execution_count": 150,
   "metadata": {},
   "outputs": [
    {
     "name": "stdout",
     "output_type": "stream",
     "text": [
      "<class 'pandas.core.frame.DataFrame'>\n",
      "RangeIndex: 843204 entries, 0 to 843203\n",
      "Data columns (total 20 columns):\n",
      " #   Column                                 Non-Null Count   Dtype  \n",
      "---  ------                                 --------------   -----  \n",
      " 0   Area_Service                           843204 non-null  int32  \n",
      " 1   Hospital_County                        843204 non-null  int32  \n",
      " 2   Age                                    843204 non-null  int32  \n",
      " 3   Gender                                 843204 non-null  int32  \n",
      " 4   Cultural_group                         843204 non-null  int32  \n",
      " 5   ethnicity                              843204 non-null  int32  \n",
      " 6   Days_spend_hsptl                       843204 non-null  int32  \n",
      " 7   Admission_type                         843204 non-null  int32  \n",
      " 8   Home_or_self_care                      843204 non-null  int32  \n",
      " 9   ccs_diagnosis_code                     843204 non-null  int64  \n",
      " 10  ccs_procedure_code                     843204 non-null  int64  \n",
      " 11  Code_illness                           843204 non-null  int64  \n",
      " 12  Mortality_risk                         843204 non-null  int32  \n",
      " 13  Surg_Description                       843204 non-null  int32  \n",
      " 14  Emergency_dept_yes_No                  843204 non-null  int32  \n",
      " 15  Tot_charg                              843204 non-null  float64\n",
      " 16  Tot_cost                               843204 non-null  float64\n",
      " 17  ratio_of_total_costs_to_total_charges  843204 non-null  float64\n",
      " 18  Result                                 843204 non-null  int64  \n",
      " 19  Payment_Typology                       843204 non-null  int64  \n",
      "dtypes: float64(3), int32(12), int64(5)\n",
      "memory usage: 90.1 MB\n"
     ]
    }
   ],
   "source": [
    "sample_upsampled.info()"
   ]
  },
  {
   "cell_type": "code",
   "execution_count": 151,
   "metadata": {},
   "outputs": [],
   "source": [
    "X = sample_upsampled.drop(['Result'],axis=1).values\n",
    "Y = sample_upsampled.Result.values"
   ]
  },
  {
   "cell_type": "code",
   "execution_count": 152,
   "metadata": {},
   "outputs": [],
   "source": [
    "x_train, x_test, y_train, y_test = train_test_split(X, Y, test_size=0.2, stratify=Y, random_state=30)"
   ]
  },
  {
   "cell_type": "code",
   "execution_count": 153,
   "metadata": {},
   "outputs": [],
   "source": [
    "from sklearn.ensemble import RandomForestClassifier\n",
    "model = RandomForestClassifier(n_estimators=15, random_state=42)"
   ]
  },
  {
   "cell_type": "code",
   "execution_count": 154,
   "metadata": {},
   "outputs": [
    {
     "data": {
      "text/plain": [
       "RandomForestClassifier(n_estimators=15, random_state=42)"
      ]
     },
     "execution_count": 154,
     "metadata": {},
     "output_type": "execute_result"
    }
   ],
   "source": [
    "model.fit(x_train, y_train)"
   ]
  },
  {
   "cell_type": "code",
   "execution_count": 156,
   "metadata": {},
   "outputs": [
    {
     "data": {
      "text/plain": [
       "48"
      ]
     },
     "execution_count": 156,
     "metadata": {},
     "output_type": "execute_result"
    }
   ],
   "source": [
    "# checking model memory size\n",
    "from sys import getsizeof\n",
    "getsizeof(model)"
   ]
  },
  {
   "cell_type": "code",
   "execution_count": 157,
   "metadata": {},
   "outputs": [],
   "source": [
    "y_pred_train = model.predict(x_train)\n",
    "y_pred_test = model.predict(x_test)"
   ]
  },
  {
   "cell_type": "code",
   "execution_count": 158,
   "metadata": {},
   "outputs": [
    {
     "name": "stdout",
     "output_type": "stream",
     "text": [
      "              precision    recall  f1-score   support\n",
      "\n",
      "           0       0.99      0.99      0.99    299806\n",
      "           1       0.99      0.99      0.99    374757\n",
      "\n",
      "    accuracy                           0.99    674563\n",
      "   macro avg       0.99      0.99      0.99    674563\n",
      "weighted avg       0.99      0.99      0.99    674563\n",
      "\n"
     ]
    }
   ],
   "source": [
    "# classification report...for train set\n",
    "print(classification_report(y_train, y_pred_train))"
   ]
  },
  {
   "cell_type": "code",
   "execution_count": 159,
   "metadata": {},
   "outputs": [
    {
     "name": "stdout",
     "output_type": "stream",
     "text": [
      "              precision    recall  f1-score   support\n",
      "\n",
      "           0       0.84      0.86      0.85     74951\n",
      "           1       0.89      0.87      0.88     93690\n",
      "\n",
      "    accuracy                           0.87    168641\n",
      "   macro avg       0.86      0.87      0.86    168641\n",
      "weighted avg       0.87      0.87      0.87    168641\n",
      "\n"
     ]
    }
   ],
   "source": [
    "# classification report...for train set\n",
    "print(classification_report(y_test, y_pred_test))"
   ]
  },
  {
   "cell_type": "code",
   "execution_count": 160,
   "metadata": {},
   "outputs": [
    {
     "name": "stdout",
     "output_type": "stream",
     "text": [
      "              precision    recall  f1-score   support\n",
      "\n",
      "           0       0.73      0.57      0.64    260904\n",
      "           1       0.87      0.93      0.90    780361\n",
      "\n",
      "    accuracy                           0.84   1041265\n",
      "   macro avg       0.80      0.75      0.77   1041265\n",
      "weighted avg       0.83      0.84      0.83   1041265\n",
      "\n"
     ]
    }
   ],
   "source": [
    "y_pred_whole = model.predict(dataset.drop(['Result'],axis=1))\n",
    "\n",
    "print(classification_report(dataset.Result.values, y_pred_whole))"
   ]
  },
  {
   "cell_type": "code",
   "execution_count": 161,
   "metadata": {},
   "outputs": [
    {
     "data": {
      "image/png": "[encoded data removed]",
      "text/plain": [
       "<Figure size 432x288 with 2 Axes>"
      ]
     },
     "metadata": {
      "needs_background": "light"
     },
     "output_type": "display_data"
    }
   ],
   "source": [
    "sns.heatmap(confusion_matrix(dataset.Result.values, y_pred_whole), annot=True, fmt='.8g')\n",
    "plt.show()"
   ]
  },
  {
   "cell_type": "code",
   "execution_count": 162,
   "metadata": {},
   "outputs": [],
   "source": [
    "from sklearn.metrics import f1_score\n",
    "\n",
    "skf = StratifiedKFold(n_splits=5, shuffle=True, random_state=1) \n",
    "lst_accu_stratified = [] \n",
    "\n",
    "x = dataset.drop(['Result'],axis=1).values\n",
    "y = dataset.Result.values\n",
    "   \n",
    "for train_index, test_index in skf.split(x, y): \n",
    "    x_train_fold, x_test_fold = x[train_index], x[test_index] \n",
    "    y_train_fold, y_test_fold = y[train_index], y[test_index] \n",
    "    model.fit(x_train_fold, y_train_fold)\n",
    "    lst_accu_stratified.append(f1_score(y_test_fold, model.predict(x_test_fold)))"
   ]
  },
  {
   "cell_type": "code",
   "execution_count": 163,
   "metadata": {},
   "outputs": [
    {
     "name": "stdout",
     "output_type": "stream",
     "text": [
      "List of possible F1 score: [0.8334086728587228, 0.8345982808837109, 0.8342140195390113, 0.8338922741121367, 0.8341324087363051]\n",
      "\n",
      "Maximum F1 score That can be obtained from this model is: 83.46\n",
      "\n",
      "Minimum F1 score: 83.34\n",
      "\n",
      "Overall F1 score: 83.4\n",
      "\n",
      "Standard Deviation is: 0.0\n"
     ]
    }
   ],
   "source": [
    "# Print the output. \n",
    "print('List of possible F1 score:', lst_accu_stratified) \n",
    "print('\\nMaximum F1 score That can be obtained from this model is:', \n",
    "      (np.round(max(lst_accu_stratified)*100, 2)))\n",
    "print('\\nMinimum F1 score:', \n",
    "      (np.round(min(lst_accu_stratified)*100,2))) \n",
    "print('\\nOverall F1 score:', \n",
    "     (np.round(np.mean(lst_accu_stratified)*100,2)))\n",
    "print('\\nStandard Deviation is:', np.round(np.std(lst_accu_stratified)))"
   ]
  },
  {
   "cell_type": "markdown",
   "metadata": {},
   "source": [
    "### Saving Model"
   ]
  },
  {
   "cell_type": "code",
   "execution_count": 164,
   "metadata": {},
   "outputs": [
    {
     "data": {
      "text/plain": [
       "['model.joblib']"
      ]
     },
     "execution_count": 164,
     "metadata": {},
     "output_type": "execute_result"
    }
   ],
   "source": [
    "from joblib import dump, load\n",
    "dump(model, 'model.joblib') "
   ]
  }
 ],
 "metadata": {
  "kernelspec": {
   "display_name": "Python 3",
   "language": "python",
   "name": "python3"
  },
  "language_info": {
   "codemirror_mode": {
    "name": "ipython",
    "version": 3
   },
   "file_extension": ".py",
   "mimetype": "text/x-python",
   "name": "python",
   "nbconvert_exporter": "python",
   "pygments_lexer": "ipython3",
   "version": "3.8.0"
  }
 },
 "nbformat": 4,
 "nbformat_minor": 4
}
